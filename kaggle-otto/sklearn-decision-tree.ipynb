{
 "cells": [
  {
   "cell_type": "markdown",
   "metadata": {},
   "source": [
    "Summary:\n",
    "* decision tree is very fast.\n",
    "* changing min_samples_split will change precision.\n",
    "* the default criterion 'gini' is better than 'entropy' for all 4 min_samples_split numbers tried here."
   ]
  },
  {
   "cell_type": "code",
   "execution_count": 1,
   "metadata": {},
   "outputs": [],
   "source": [
    "from sklearn.model_selection import train_test_split\n",
    "from sklearn.metrics import log_loss\n",
    "from sklearn import preprocessing\n",
    "\n",
    "import numpy as np\n",
    "import pandas as pd"
   ]
  },
  {
   "cell_type": "code",
   "execution_count": 2,
   "metadata": {},
   "outputs": [],
   "source": [
    "train = pd.read_csv('train.csv')\n",
    "labels = train.target.values\n",
    "le = preprocessing.LabelEncoder()\n",
    "labels = le.fit_transform(labels)\n",
    "train = train.drop('id', axis=1)\n",
    "train = train.drop('target', axis=1)\n",
    "\n",
    "# split 80%\n",
    "X, X_test, y, y_test = train_test_split(\n",
    "    train.values, labels.astype('int32'), test_size=0.20, random_state=1234)"
   ]
  },
  {
   "cell_type": "code",
   "execution_count": 8,
   "metadata": {},
   "outputs": [
    {
     "name": "stdout",
     "output_type": "stream",
     "text": [
      "train time 1.333726167678833, predict time 0.003587007522583008, predict proba time 0.0036513805389404297\n"
     ]
    }
   ],
   "source": [
    "from time import time\n",
    "from sklearn import tree\n",
    "\n",
    "clf = tree.DecisionTreeClassifier(min_samples_split=50)\n",
    "t0 = time()\n",
    "clf.fit(X,y)\n",
    "t1 = time()\n",
    "y_pred = clf.predict(X_test)\n",
    "t2 = time()\n",
    "y_pred_proba = clf.predict_proba(X_test)\n",
    "t3 = time()\n",
    "print(\"train time %s, predict time %s, predict proba time %s\" %(t1-t0, t2-t1, t3-t2))"
   ]
  },
  {
   "cell_type": "code",
   "execution_count": 9,
   "metadata": {},
   "outputs": [
    {
     "name": "stdout",
     "output_type": "stream",
     "text": [
      "0.720885484891\n",
      "[ 0.41196013  0.70532544  0.48269352  0.47563805  0.93784278  0.9051481\n",
      "  0.52690167  0.80890973  0.71633238]\n"
     ]
    }
   ],
   "source": [
    "from sklearn.metrics import precision_score\n",
    "\n",
    "print(precision_score(y_test, y_pred, average='weighted'))\n",
    "print(precision_score(y_test, y_pred, average=None))"
   ]
  },
  {
   "cell_type": "markdown",
   "metadata": {},
   "source": [
    "## min_samples_split=20"
   ]
  },
  {
   "cell_type": "code",
   "execution_count": 10,
   "metadata": {},
   "outputs": [
    {
     "name": "stdout",
     "output_type": "stream",
     "text": [
      "train time 1.3822956085205078, predict time 0.0037908554077148438, predict proba time 0.003988504409790039\n",
      "0.721495109327\n",
      "[ 0.38167939  0.6971935   0.48138639  0.46169772  0.91666667  0.90020935\n",
      "  0.54863813  0.82509047  0.75602094]\n"
     ]
    }
   ],
   "source": [
    "clf = tree.DecisionTreeClassifier(min_samples_split=20)\n",
    "t0 = time()\n",
    "clf.fit(X,y)\n",
    "t1 = time()\n",
    "y_pred = clf.predict(X_test)\n",
    "t2 = time()\n",
    "y_pred_proba = clf.predict_proba(X_test)\n",
    "t3 = time()\n",
    "print(\"train time %s, predict time %s, predict proba time %s\" %(t1-t0, t2-t1, t3-t2))\n",
    "print(precision_score(y_test, y_pred, average='weighted'))\n",
    "print(precision_score(y_test, y_pred, average=None))"
   ]
  },
  {
   "cell_type": "markdown",
   "metadata": {},
   "source": [
    "### min_samples_split=100"
   ]
  },
  {
   "cell_type": "code",
   "execution_count": 11,
   "metadata": {},
   "outputs": [
    {
     "name": "stdout",
     "output_type": "stream",
     "text": [
      "train time 1.3023619651794434, predict time 0.003470897674560547, predict proba time 0.0034737586975097656\n",
      "0.718414020744\n",
      "[ 0.42962963  0.69066367  0.47937132  0.52957746  0.93115942  0.90259285\n",
      "  0.5625      0.80641399  0.69540769]\n"
     ]
    }
   ],
   "source": [
    "clf = tree.DecisionTreeClassifier(min_samples_split=100)\n",
    "t0 = time()\n",
    "clf.fit(X,y)\n",
    "t1 = time()\n",
    "y_pred = clf.predict(X_test)\n",
    "t2 = time()\n",
    "y_pred_proba = clf.predict_proba(X_test)\n",
    "t3 = time()\n",
    "print(\"train time %s, predict time %s, predict proba time %s\" %(t1-t0, t2-t1, t3-t2))\n",
    "print(precision_score(y_test, y_pred, average='weighted'))\n",
    "print(precision_score(y_test, y_pred, average=None))"
   ]
  },
  {
   "cell_type": "markdown",
   "metadata": {},
   "source": [
    "## Export and visulize"
   ]
  },
  {
   "cell_type": "code",
   "execution_count": 18,
   "metadata": {
    "scrolled": false
   },
   "outputs": [
    {
     "data": {
      "image/svg+xml": [
       "<?xml version=\"1.0\" encoding=\"UTF-8\" standalone=\"no\"?>\n",
       "<!DOCTYPE svg PUBLIC \"-//W3C//DTD SVG 1.1//EN\"\n",
       " \"http://www.w3.org/Graphics/SVG/1.1/DTD/svg11.dtd\">\n",
       "<!-- Generated by graphviz version 2.38.0 (20140413.2041)\n",
       " -->\n",
       "<!-- Title: Tree Pages: 1 -->\n",
       "<svg width=\"2154pt\" height=\"460pt\"\n",
       " viewBox=\"0.00 0.00 2153.50 460.00\" xmlns=\"http://www.w3.org/2000/svg\" xmlns:xlink=\"http://www.w3.org/1999/xlink\">\n",
       "<g id=\"graph0\" class=\"graph\" transform=\"scale(1 1) rotate(0) translate(4 456)\">\n",
       "<title>Tree</title>\n",
       "<polygon fill=\"white\" stroke=\"none\" points=\"-4,4 -4,-456 2149.5,-456 2149.5,4 -4,4\"/>\n",
       "<!-- 0 -->\n",
       "<g id=\"node1\" class=\"node\"><title>0</title>\n",
       "<path fill=\"#d7e539\" fill-opacity=\"0.043137\" stroke=\"black\" d=\"M1391.5,-452C1391.5,-452 998.5,-452 998.5,-452 992.5,-452 986.5,-446 986.5,-440 986.5,-440 986.5,-396 986.5,-396 986.5,-390 992.5,-384 998.5,-384 998.5,-384 1391.5,-384 1391.5,-384 1397.5,-384 1403.5,-390 1403.5,-396 1403.5,-396 1403.5,-440 1403.5,-440 1403.5,-446 1397.5,-452 1391.5,-452\"/>\n",
       "<text text-anchor=\"middle\" x=\"1195\" y=\"-436.8\" font-family=\"Helvetica,sans-Serif\" font-size=\"14.00\">X[10] &lt;= 4.5</text>\n",
       "<text text-anchor=\"middle\" x=\"1195\" y=\"-421.8\" font-family=\"Helvetica,sans-Serif\" font-size=\"14.00\">gini = 0.831</text>\n",
       "<text text-anchor=\"middle\" x=\"1195\" y=\"-406.8\" font-family=\"Helvetica,sans-Serif\" font-size=\"14.00\">samples = 49502</text>\n",
       "<text text-anchor=\"middle\" x=\"1195\" y=\"-391.8\" font-family=\"Helvetica,sans-Serif\" font-size=\"14.00\">value = [1549, 12923, 6455, 2134, 2196, 11281, 2247, 6777, 3940]</text>\n",
       "</g>\n",
       "<!-- 1 -->\n",
       "<g id=\"node2\" class=\"node\"><title>1</title>\n",
       "<path fill=\"#d7e539\" fill-opacity=\"0.168627\" stroke=\"black\" d=\"M1181,-348C1181,-348 795,-348 795,-348 789,-348 783,-342 783,-336 783,-336 783,-292 783,-292 783,-286 789,-280 795,-280 795,-280 1181,-280 1181,-280 1187,-280 1193,-286 1193,-292 1193,-292 1193,-336 1193,-336 1193,-342 1187,-348 1181,-348\"/>\n",
       "<text text-anchor=\"middle\" x=\"988\" y=\"-332.8\" font-family=\"Helvetica,sans-Serif\" font-size=\"14.00\">X[59] &lt;= 3.5</text>\n",
       "<text text-anchor=\"middle\" x=\"988\" y=\"-317.8\" font-family=\"Helvetica,sans-Serif\" font-size=\"14.00\">gini = 0.835</text>\n",
       "<text text-anchor=\"middle\" x=\"988\" y=\"-302.8\" font-family=\"Helvetica,sans-Serif\" font-size=\"14.00\">samples = 43940</text>\n",
       "<text text-anchor=\"middle\" x=\"988\" y=\"-287.8\" font-family=\"Helvetica,sans-Serif\" font-size=\"14.00\">value = [1541, 12917, 6447, 2134, 2196, 5963, 2227, 6581, 3934]</text>\n",
       "</g>\n",
       "<!-- 0&#45;&gt;1 -->\n",
       "<g id=\"edge1\" class=\"edge\"><title>0&#45;&gt;1</title>\n",
       "<path fill=\"none\" stroke=\"black\" d=\"M1127.79,-383.884C1107.53,-373.901 1085.15,-362.872 1064.35,-352.619\"/>\n",
       "<polygon fill=\"black\" stroke=\"black\" points=\"1065.74,-349.405 1055.22,-348.125 1062.65,-355.684 1065.74,-349.405\"/>\n",
       "<text text-anchor=\"middle\" x=\"1063.27\" y=\"-368.095\" font-family=\"Helvetica,sans-Serif\" font-size=\"14.00\">True</text>\n",
       "</g>\n",
       "<!-- 3022 -->\n",
       "<g id=\"node15\" class=\"node\"><title>3022</title>\n",
       "<path fill=\"#3964e5\" fill-opacity=\"0.952941\" stroke=\"black\" d=\"M1513.5,-348C1513.5,-348 1292.5,-348 1292.5,-348 1286.5,-348 1280.5,-342 1280.5,-336 1280.5,-336 1280.5,-292 1280.5,-292 1280.5,-286 1286.5,-280 1292.5,-280 1292.5,-280 1513.5,-280 1513.5,-280 1519.5,-280 1525.5,-286 1525.5,-292 1525.5,-292 1525.5,-336 1525.5,-336 1525.5,-342 1519.5,-348 1513.5,-348\"/>\n",
       "<text text-anchor=\"middle\" x=\"1403\" y=\"-332.8\" font-family=\"Helvetica,sans-Serif\" font-size=\"14.00\">X[68] &lt;= 3.5</text>\n",
       "<text text-anchor=\"middle\" x=\"1403\" y=\"-317.8\" font-family=\"Helvetica,sans-Serif\" font-size=\"14.00\">gini = 0.085</text>\n",
       "<text text-anchor=\"middle\" x=\"1403\" y=\"-302.8\" font-family=\"Helvetica,sans-Serif\" font-size=\"14.00\">samples = 5562</text>\n",
       "<text text-anchor=\"middle\" x=\"1403\" y=\"-287.8\" font-family=\"Helvetica,sans-Serif\" font-size=\"14.00\">value = [8, 6, 8, 0, 0, 5318, 20, 196, 6]</text>\n",
       "</g>\n",
       "<!-- 0&#45;&gt;3022 -->\n",
       "<g id=\"edge14\" class=\"edge\"><title>0&#45;&gt;3022</title>\n",
       "<path fill=\"none\" stroke=\"black\" d=\"M1262.53,-383.884C1282.89,-373.901 1305.38,-362.872 1326.29,-352.619\"/>\n",
       "<polygon fill=\"black\" stroke=\"black\" points=\"1328.01,-355.67 1335.45,-348.125 1324.93,-349.385 1328.01,-355.67\"/>\n",
       "<text text-anchor=\"middle\" x=\"1327.36\" y=\"-368.08\" font-family=\"Helvetica,sans-Serif\" font-size=\"14.00\">False</text>\n",
       "</g>\n",
       "<!-- 2 -->\n",
       "<g id=\"node3\" class=\"node\"><title>2</title>\n",
       "<path fill=\"#d7e539\" fill-opacity=\"0.188235\" stroke=\"black\" d=\"M758,-244C758,-244 372,-244 372,-244 366,-244 360,-238 360,-232 360,-232 360,-188 360,-188 360,-182 366,-176 372,-176 372,-176 758,-176 758,-176 764,-176 770,-182 770,-188 770,-188 770,-232 770,-232 770,-238 764,-244 758,-244\"/>\n",
       "<text text-anchor=\"middle\" x=\"565\" y=\"-228.8\" font-family=\"Helvetica,sans-Serif\" font-size=\"14.00\">X[33] &lt;= 4.5</text>\n",
       "<text text-anchor=\"middle\" x=\"565\" y=\"-213.8\" font-family=\"Helvetica,sans-Serif\" font-size=\"14.00\">gini = 0.822</text>\n",
       "<text text-anchor=\"middle\" x=\"565\" y=\"-198.8\" font-family=\"Helvetica,sans-Serif\" font-size=\"14.00\">samples = 40207</text>\n",
       "<text text-anchor=\"middle\" x=\"565\" y=\"-183.8\" font-family=\"Helvetica,sans-Serif\" font-size=\"14.00\">value = [1484, 12908, 6447, 2106, 2196, 2541, 2157, 6511, 3857]</text>\n",
       "</g>\n",
       "<!-- 1&#45;&gt;2 -->\n",
       "<g id=\"edge2\" class=\"edge\"><title>1&#45;&gt;2</title>\n",
       "<path fill=\"none\" stroke=\"black\" d=\"M850.956,-279.954C806.556,-269.247 757.137,-257.331 712.041,-246.457\"/>\n",
       "<polygon fill=\"black\" stroke=\"black\" points=\"712.73,-243.023 702.188,-244.081 711.089,-249.827 712.73,-243.023\"/>\n",
       "</g>\n",
       "<!-- 2843 -->\n",
       "<g id=\"node10\" class=\"node\"><title>2843</title>\n",
       "<path fill=\"#3964e5\" fill-opacity=\"0.913725\" stroke=\"black\" d=\"M1106,-244C1106,-244 870,-244 870,-244 864,-244 858,-238 858,-232 858,-232 858,-188 858,-188 858,-182 864,-176 870,-176 870,-176 1106,-176 1106,-176 1112,-176 1118,-182 1118,-188 1118,-188 1118,-232 1118,-232 1118,-238 1112,-244 1106,-244\"/>\n",
       "<text text-anchor=\"middle\" x=\"988\" y=\"-228.8\" font-family=\"Helvetica,sans-Serif\" font-size=\"14.00\">X[61] &lt;= 9.5</text>\n",
       "<text text-anchor=\"middle\" x=\"988\" y=\"-213.8\" font-family=\"Helvetica,sans-Serif\" font-size=\"14.00\">gini = 0.158</text>\n",
       "<text text-anchor=\"middle\" x=\"988\" y=\"-198.8\" font-family=\"Helvetica,sans-Serif\" font-size=\"14.00\">samples = 3733</text>\n",
       "<text text-anchor=\"middle\" x=\"988\" y=\"-183.8\" font-family=\"Helvetica,sans-Serif\" font-size=\"14.00\">value = [57, 9, 0, 28, 0, 3422, 70, 70, 77]</text>\n",
       "</g>\n",
       "<!-- 1&#45;&gt;2843 -->\n",
       "<g id=\"edge9\" class=\"edge\"><title>1&#45;&gt;2843</title>\n",
       "<path fill=\"none\" stroke=\"black\" d=\"M988,-279.884C988,-271.778 988,-262.982 988,-254.472\"/>\n",
       "<polygon fill=\"black\" stroke=\"black\" points=\"991.5,-254.299 988,-244.299 984.5,-254.299 991.5,-254.299\"/>\n",
       "</g>\n",
       "<!-- 3 -->\n",
       "<g id=\"node4\" class=\"node\"><title>3</title>\n",
       "<path fill=\"#d7e539\" fill-opacity=\"0.200000\" stroke=\"black\" d=\"M390,-140C390,-140 12,-140 12,-140 6,-140 0,-134 0,-128 0,-128 0,-84 0,-84 0,-78 6,-72 12,-72 12,-72 390,-72 390,-72 396,-72 402,-78 402,-84 402,-84 402,-128 402,-128 402,-134 396,-140 390,-140\"/>\n",
       "<text text-anchor=\"middle\" x=\"201\" y=\"-124.8\" font-family=\"Helvetica,sans-Serif\" font-size=\"14.00\">X[89] &lt;= 1.5</text>\n",
       "<text text-anchor=\"middle\" x=\"201\" y=\"-109.8\" font-family=\"Helvetica,sans-Serif\" font-size=\"14.00\">gini = 0.806</text>\n",
       "<text text-anchor=\"middle\" x=\"201\" y=\"-94.8\" font-family=\"Helvetica,sans-Serif\" font-size=\"14.00\">samples = 37804</text>\n",
       "<text text-anchor=\"middle\" x=\"201\" y=\"-79.8\" font-family=\"Helvetica,sans-Serif\" font-size=\"14.00\">value = [1481, 12746, 6323, 2083, 194, 2528, 2119, 6491, 3839]</text>\n",
       "</g>\n",
       "<!-- 2&#45;&gt;3 -->\n",
       "<g id=\"edge3\" class=\"edge\"><title>2&#45;&gt;3</title>\n",
       "<path fill=\"none\" stroke=\"black\" d=\"M447.071,-175.954C409.264,-165.36 367.229,-153.581 328.753,-142.799\"/>\n",
       "<polygon fill=\"black\" stroke=\"black\" points=\"329.626,-139.409 319.053,-140.081 327.738,-146.149 329.626,-139.409\"/>\n",
       "</g>\n",
       "<!-- 2778 -->\n",
       "<g id=\"node7\" class=\"node\"><title>2778</title>\n",
       "<path fill=\"#39d7e5\" fill-opacity=\"0.819608\" stroke=\"black\" d=\"M698,-140C698,-140 432,-140 432,-140 426,-140 420,-134 420,-128 420,-128 420,-84 420,-84 420,-78 426,-72 432,-72 432,-72 698,-72 698,-72 704,-72 710,-78 710,-84 710,-84 710,-128 710,-128 710,-134 704,-140 698,-140\"/>\n",
       "<text text-anchor=\"middle\" x=\"565\" y=\"-124.8\" font-family=\"Helvetica,sans-Serif\" font-size=\"14.00\">X[38] &lt;= 0.5</text>\n",
       "<text text-anchor=\"middle\" x=\"565\" y=\"-109.8\" font-family=\"Helvetica,sans-Serif\" font-size=\"14.00\">gini = 0.298</text>\n",
       "<text text-anchor=\"middle\" x=\"565\" y=\"-94.8\" font-family=\"Helvetica,sans-Serif\" font-size=\"14.00\">samples = 2403</text>\n",
       "<text text-anchor=\"middle\" x=\"565\" y=\"-79.8\" font-family=\"Helvetica,sans-Serif\" font-size=\"14.00\">value = [3, 162, 124, 23, 2002, 13, 38, 20, 18]</text>\n",
       "</g>\n",
       "<!-- 2&#45;&gt;2778 -->\n",
       "<g id=\"edge6\" class=\"edge\"><title>2&#45;&gt;2778</title>\n",
       "<path fill=\"none\" stroke=\"black\" d=\"M565,-175.884C565,-167.778 565,-158.982 565,-150.472\"/>\n",
       "<polygon fill=\"black\" stroke=\"black\" points=\"568.5,-150.299 565,-140.299 561.5,-150.299 568.5,-150.299\"/>\n",
       "</g>\n",
       "<!-- 4 -->\n",
       "<g id=\"node5\" class=\"node\"><title>4</title>\n",
       "<path fill=\"#c0c0c0\" stroke=\"black\" d=\"M180,-36C180,-36 150,-36 150,-36 144,-36 138,-30 138,-24 138,-24 138,-12 138,-12 138,-6 144,-0 150,-0 150,-0 180,-0 180,-0 186,-0 192,-6 192,-12 192,-12 192,-24 192,-24 192,-30 186,-36 180,-36\"/>\n",
       "<text text-anchor=\"middle\" x=\"165\" y=\"-14.3\" font-family=\"Helvetica,sans-Serif\" font-size=\"14.00\">(...)</text>\n",
       "</g>\n",
       "<!-- 3&#45;&gt;4 -->\n",
       "<g id=\"edge4\" class=\"edge\"><title>3&#45;&gt;4</title>\n",
       "<path fill=\"none\" stroke=\"black\" d=\"M187.184,-71.9961C183.536,-63.2804 179.645,-53.9846 176.156,-45.6514\"/>\n",
       "<polygon fill=\"black\" stroke=\"black\" points=\"179.375,-44.2763 172.285,-36.4034 172.918,-46.9793 179.375,-44.2763\"/>\n",
       "</g>\n",
       "<!-- 2595 -->\n",
       "<g id=\"node6\" class=\"node\"><title>2595</title>\n",
       "<path fill=\"#c0c0c0\" stroke=\"black\" d=\"M252,-36C252,-36 222,-36 222,-36 216,-36 210,-30 210,-24 210,-24 210,-12 210,-12 210,-6 216,-0 222,-0 222,-0 252,-0 252,-0 258,-0 264,-6 264,-12 264,-12 264,-24 264,-24 264,-30 258,-36 252,-36\"/>\n",
       "<text text-anchor=\"middle\" x=\"237\" y=\"-14.3\" font-family=\"Helvetica,sans-Serif\" font-size=\"14.00\">(...)</text>\n",
       "</g>\n",
       "<!-- 3&#45;&gt;2595 -->\n",
       "<g id=\"edge5\" class=\"edge\"><title>3&#45;&gt;2595</title>\n",
       "<path fill=\"none\" stroke=\"black\" d=\"M214.816,-71.9961C218.464,-63.2804 222.355,-53.9846 225.844,-45.6514\"/>\n",
       "<polygon fill=\"black\" stroke=\"black\" points=\"229.082,-46.9793 229.715,-36.4034 222.625,-44.2763 229.082,-46.9793\"/>\n",
       "</g>\n",
       "<!-- 2779 -->\n",
       "<g id=\"node8\" class=\"node\"><title>2779</title>\n",
       "<path fill=\"#c0c0c0\" stroke=\"black\" d=\"M544,-36C544,-36 514,-36 514,-36 508,-36 502,-30 502,-24 502,-24 502,-12 502,-12 502,-6 508,-0 514,-0 514,-0 544,-0 544,-0 550,-0 556,-6 556,-12 556,-12 556,-24 556,-24 556,-30 550,-36 544,-36\"/>\n",
       "<text text-anchor=\"middle\" x=\"529\" y=\"-14.3\" font-family=\"Helvetica,sans-Serif\" font-size=\"14.00\">(...)</text>\n",
       "</g>\n",
       "<!-- 2778&#45;&gt;2779 -->\n",
       "<g id=\"edge7\" class=\"edge\"><title>2778&#45;&gt;2779</title>\n",
       "<path fill=\"none\" stroke=\"black\" d=\"M551.184,-71.9961C547.536,-63.2804 543.645,-53.9846 540.156,-45.6514\"/>\n",
       "<polygon fill=\"black\" stroke=\"black\" points=\"543.375,-44.2763 536.285,-36.4034 536.918,-46.9793 543.375,-44.2763\"/>\n",
       "</g>\n",
       "<!-- 2828 -->\n",
       "<g id=\"node9\" class=\"node\"><title>2828</title>\n",
       "<path fill=\"#c0c0c0\" stroke=\"black\" d=\"M616,-36C616,-36 586,-36 586,-36 580,-36 574,-30 574,-24 574,-24 574,-12 574,-12 574,-6 580,-0 586,-0 586,-0 616,-0 616,-0 622,-0 628,-6 628,-12 628,-12 628,-24 628,-24 628,-30 622,-36 616,-36\"/>\n",
       "<text text-anchor=\"middle\" x=\"601\" y=\"-14.3\" font-family=\"Helvetica,sans-Serif\" font-size=\"14.00\">(...)</text>\n",
       "</g>\n",
       "<!-- 2778&#45;&gt;2828 -->\n",
       "<g id=\"edge8\" class=\"edge\"><title>2778&#45;&gt;2828</title>\n",
       "<path fill=\"none\" stroke=\"black\" d=\"M578.816,-71.9961C582.464,-63.2804 586.355,-53.9846 589.844,-45.6514\"/>\n",
       "<polygon fill=\"black\" stroke=\"black\" points=\"593.082,-46.9793 593.715,-36.4034 586.625,-44.2763 593.082,-46.9793\"/>\n",
       "</g>\n",
       "<!-- 2844 -->\n",
       "<g id=\"node11\" class=\"node\"><title>2844</title>\n",
       "<path fill=\"#3964e5\" fill-opacity=\"0.925490\" stroke=\"black\" d=\"M976,-140C976,-140 740,-140 740,-140 734,-140 728,-134 728,-128 728,-128 728,-84 728,-84 728,-78 734,-72 740,-72 740,-72 976,-72 976,-72 982,-72 988,-78 988,-84 988,-84 988,-128 988,-128 988,-134 982,-140 976,-140\"/>\n",
       "<text text-anchor=\"middle\" x=\"858\" y=\"-124.8\" font-family=\"Helvetica,sans-Serif\" font-size=\"14.00\">X[69] &lt;= 3.5</text>\n",
       "<text text-anchor=\"middle\" x=\"858\" y=\"-109.8\" font-family=\"Helvetica,sans-Serif\" font-size=\"14.00\">gini = 0.141</text>\n",
       "<text text-anchor=\"middle\" x=\"858\" y=\"-94.8\" font-family=\"Helvetica,sans-Serif\" font-size=\"14.00\">samples = 3693</text>\n",
       "<text text-anchor=\"middle\" x=\"858\" y=\"-79.8\" font-family=\"Helvetica,sans-Serif\" font-size=\"14.00\">value = [55, 9, 0, 28, 0, 3420, 70, 69, 42]</text>\n",
       "</g>\n",
       "<!-- 2843&#45;&gt;2844 -->\n",
       "<g id=\"edge10\" class=\"edge\"><title>2843&#45;&gt;2844</title>\n",
       "<path fill=\"none\" stroke=\"black\" d=\"M945.793,-175.884C933.873,-166.531 920.781,-156.259 908.43,-146.568\"/>\n",
       "<polygon fill=\"black\" stroke=\"black\" points=\"910.468,-143.719 900.44,-140.299 906.147,-149.226 910.468,-143.719\"/>\n",
       "</g>\n",
       "<!-- 3021 -->\n",
       "<g id=\"node14\" class=\"node\"><title>3021</title>\n",
       "<path fill=\"#e53964\" fill-opacity=\"0.866667\" stroke=\"black\" d=\"M1201.5,-132.5C1201.5,-132.5 1018.5,-132.5 1018.5,-132.5 1012.5,-132.5 1006.5,-126.5 1006.5,-120.5 1006.5,-120.5 1006.5,-91.5 1006.5,-91.5 1006.5,-85.5 1012.5,-79.5 1018.5,-79.5 1018.5,-79.5 1201.5,-79.5 1201.5,-79.5 1207.5,-79.5 1213.5,-85.5 1213.5,-91.5 1213.5,-91.5 1213.5,-120.5 1213.5,-120.5 1213.5,-126.5 1207.5,-132.5 1201.5,-132.5\"/>\n",
       "<text text-anchor=\"middle\" x=\"1110\" y=\"-117.3\" font-family=\"Helvetica,sans-Serif\" font-size=\"14.00\">gini = 0.229</text>\n",
       "<text text-anchor=\"middle\" x=\"1110\" y=\"-102.3\" font-family=\"Helvetica,sans-Serif\" font-size=\"14.00\">samples = 40</text>\n",
       "<text text-anchor=\"middle\" x=\"1110\" y=\"-87.3\" font-family=\"Helvetica,sans-Serif\" font-size=\"14.00\">value = [2, 0, 0, 0, 0, 2, 0, 1, 35]</text>\n",
       "</g>\n",
       "<!-- 2843&#45;&gt;3021 -->\n",
       "<g id=\"edge13\" class=\"edge\"><title>2843&#45;&gt;3021</title>\n",
       "<path fill=\"none\" stroke=\"black\" d=\"M1027.61,-175.884C1041.69,-164.116 1057.5,-150.894 1071.48,-139.203\"/>\n",
       "<polygon fill=\"black\" stroke=\"black\" points=\"1074.05,-141.619 1079.48,-132.52 1069.56,-136.249 1074.05,-141.619\"/>\n",
       "</g>\n",
       "<!-- 2845 -->\n",
       "<g id=\"node12\" class=\"node\"><title>2845</title>\n",
       "<path fill=\"#c0c0c0\" stroke=\"black\" d=\"M837,-36C837,-36 807,-36 807,-36 801,-36 795,-30 795,-24 795,-24 795,-12 795,-12 795,-6 801,-0 807,-0 807,-0 837,-0 837,-0 843,-0 849,-6 849,-12 849,-12 849,-24 849,-24 849,-30 843,-36 837,-36\"/>\n",
       "<text text-anchor=\"middle\" x=\"822\" y=\"-14.3\" font-family=\"Helvetica,sans-Serif\" font-size=\"14.00\">(...)</text>\n",
       "</g>\n",
       "<!-- 2844&#45;&gt;2845 -->\n",
       "<g id=\"edge11\" class=\"edge\"><title>2844&#45;&gt;2845</title>\n",
       "<path fill=\"none\" stroke=\"black\" d=\"M844.184,-71.9961C840.536,-63.2804 836.645,-53.9846 833.156,-45.6514\"/>\n",
       "<polygon fill=\"black\" stroke=\"black\" points=\"836.375,-44.2763 829.285,-36.4034 829.918,-46.9793 836.375,-44.2763\"/>\n",
       "</g>\n",
       "<!-- 3014 -->\n",
       "<g id=\"node13\" class=\"node\"><title>3014</title>\n",
       "<path fill=\"#c0c0c0\" stroke=\"black\" d=\"M909,-36C909,-36 879,-36 879,-36 873,-36 867,-30 867,-24 867,-24 867,-12 867,-12 867,-6 873,-0 879,-0 879,-0 909,-0 909,-0 915,-0 921,-6 921,-12 921,-12 921,-24 921,-24 921,-30 915,-36 909,-36\"/>\n",
       "<text text-anchor=\"middle\" x=\"894\" y=\"-14.3\" font-family=\"Helvetica,sans-Serif\" font-size=\"14.00\">(...)</text>\n",
       "</g>\n",
       "<!-- 2844&#45;&gt;3014 -->\n",
       "<g id=\"edge12\" class=\"edge\"><title>2844&#45;&gt;3014</title>\n",
       "<path fill=\"none\" stroke=\"black\" d=\"M871.816,-71.9961C875.464,-63.2804 879.355,-53.9846 882.844,-45.6514\"/>\n",
       "<polygon fill=\"black\" stroke=\"black\" points=\"886.082,-46.9793 886.715,-36.4034 879.625,-44.2763 886.082,-46.9793\"/>\n",
       "</g>\n",
       "<!-- 3023 -->\n",
       "<g id=\"node16\" class=\"node\"><title>3023</title>\n",
       "<path fill=\"#3964e5\" fill-opacity=\"0.980392\" stroke=\"black\" d=\"M1509.5,-244C1509.5,-244 1296.5,-244 1296.5,-244 1290.5,-244 1284.5,-238 1284.5,-232 1284.5,-232 1284.5,-188 1284.5,-188 1284.5,-182 1290.5,-176 1296.5,-176 1296.5,-176 1509.5,-176 1509.5,-176 1515.5,-176 1521.5,-182 1521.5,-188 1521.5,-188 1521.5,-232 1521.5,-232 1521.5,-238 1515.5,-244 1509.5,-244\"/>\n",
       "<text text-anchor=\"middle\" x=\"1403\" y=\"-228.8\" font-family=\"Helvetica,sans-Serif\" font-size=\"14.00\">X[34] &lt;= 21.5</text>\n",
       "<text text-anchor=\"middle\" x=\"1403\" y=\"-213.8\" font-family=\"Helvetica,sans-Serif\" font-size=\"14.00\">gini = 0.039</text>\n",
       "<text text-anchor=\"middle\" x=\"1403\" y=\"-198.8\" font-family=\"Helvetica,sans-Serif\" font-size=\"14.00\">samples = 5418</text>\n",
       "<text text-anchor=\"middle\" x=\"1403\" y=\"-183.8\" font-family=\"Helvetica,sans-Serif\" font-size=\"14.00\">value = [5, 6, 8, 0, 0, 5310, 17, 66, 6]</text>\n",
       "</g>\n",
       "<!-- 3022&#45;&gt;3023 -->\n",
       "<g id=\"edge15\" class=\"edge\"><title>3022&#45;&gt;3023</title>\n",
       "<path fill=\"none\" stroke=\"black\" d=\"M1403,-279.884C1403,-271.778 1403,-262.982 1403,-254.472\"/>\n",
       "<polygon fill=\"black\" stroke=\"black\" points=\"1406.5,-254.299 1403,-244.299 1399.5,-254.299 1406.5,-254.299\"/>\n",
       "</g>\n",
       "<!-- 3070 -->\n",
       "<g id=\"node21\" class=\"node\"><title>3070</title>\n",
       "<path fill=\"#e539d7\" fill-opacity=\"0.898039\" stroke=\"black\" d=\"M1907.5,-244C1907.5,-244 1716.5,-244 1716.5,-244 1710.5,-244 1704.5,-238 1704.5,-232 1704.5,-232 1704.5,-188 1704.5,-188 1704.5,-182 1710.5,-176 1716.5,-176 1716.5,-176 1907.5,-176 1907.5,-176 1913.5,-176 1919.5,-182 1919.5,-188 1919.5,-188 1919.5,-232 1919.5,-232 1919.5,-238 1913.5,-244 1907.5,-244\"/>\n",
       "<text text-anchor=\"middle\" x=\"1812\" y=\"-228.8\" font-family=\"Helvetica,sans-Serif\" font-size=\"14.00\">X[89] &lt;= 2.5</text>\n",
       "<text text-anchor=\"middle\" x=\"1812\" y=\"-213.8\" font-family=\"Helvetica,sans-Serif\" font-size=\"14.00\">gini = 0.181</text>\n",
       "<text text-anchor=\"middle\" x=\"1812\" y=\"-198.8\" font-family=\"Helvetica,sans-Serif\" font-size=\"14.00\">samples = 144</text>\n",
       "<text text-anchor=\"middle\" x=\"1812\" y=\"-183.8\" font-family=\"Helvetica,sans-Serif\" font-size=\"14.00\">value = [3, 0, 0, 0, 0, 8, 3, 130, 0]</text>\n",
       "</g>\n",
       "<!-- 3022&#45;&gt;3070 -->\n",
       "<g id=\"edge20\" class=\"edge\"><title>3022&#45;&gt;3070</title>\n",
       "<path fill=\"none\" stroke=\"black\" d=\"M1525.71,-282.397C1579.21,-269.056 1641.64,-253.485 1694.53,-240.295\"/>\n",
       "<polygon fill=\"black\" stroke=\"black\" points=\"1695.44,-243.677 1704.29,-237.861 1693.74,-236.885 1695.44,-243.677\"/>\n",
       "</g>\n",
       "<!-- 3024 -->\n",
       "<g id=\"node17\" class=\"node\"><title>3024</title>\n",
       "<path fill=\"#3964e5\" fill-opacity=\"0.984314\" stroke=\"black\" d=\"M1456.5,-140C1456.5,-140 1243.5,-140 1243.5,-140 1237.5,-140 1231.5,-134 1231.5,-128 1231.5,-128 1231.5,-84 1231.5,-84 1231.5,-78 1237.5,-72 1243.5,-72 1243.5,-72 1456.5,-72 1456.5,-72 1462.5,-72 1468.5,-78 1468.5,-84 1468.5,-84 1468.5,-128 1468.5,-128 1468.5,-134 1462.5,-140 1456.5,-140\"/>\n",
       "<text text-anchor=\"middle\" x=\"1350\" y=\"-124.8\" font-family=\"Helvetica,sans-Serif\" font-size=\"14.00\">X[77] &lt;= 4.5</text>\n",
       "<text text-anchor=\"middle\" x=\"1350\" y=\"-109.8\" font-family=\"Helvetica,sans-Serif\" font-size=\"14.00\">gini = 0.034</text>\n",
       "<text text-anchor=\"middle\" x=\"1350\" y=\"-94.8\" font-family=\"Helvetica,sans-Serif\" font-size=\"14.00\">samples = 5401</text>\n",
       "<text text-anchor=\"middle\" x=\"1350\" y=\"-79.8\" font-family=\"Helvetica,sans-Serif\" font-size=\"14.00\">value = [5, 6, 8, 0, 0, 5309, 17, 50, 6]</text>\n",
       "</g>\n",
       "<!-- 3023&#45;&gt;3024 -->\n",
       "<g id=\"edge16\" class=\"edge\"><title>3023&#45;&gt;3024</title>\n",
       "<path fill=\"none\" stroke=\"black\" d=\"M1385.79,-175.884C1381.4,-167.422 1376.61,-158.207 1372.01,-149.352\"/>\n",
       "<polygon fill=\"black\" stroke=\"black\" points=\"1375.02,-147.559 1367.3,-140.299 1368.81,-150.787 1375.02,-147.559\"/>\n",
       "</g>\n",
       "<!-- 3069 -->\n",
       "<g id=\"node20\" class=\"node\"><title>3069</title>\n",
       "<path fill=\"#e539d7\" fill-opacity=\"0.937255\" stroke=\"black\" d=\"M1681.5,-132.5C1681.5,-132.5 1498.5,-132.5 1498.5,-132.5 1492.5,-132.5 1486.5,-126.5 1486.5,-120.5 1486.5,-120.5 1486.5,-91.5 1486.5,-91.5 1486.5,-85.5 1492.5,-79.5 1498.5,-79.5 1498.5,-79.5 1681.5,-79.5 1681.5,-79.5 1687.5,-79.5 1693.5,-85.5 1693.5,-91.5 1693.5,-91.5 1693.5,-120.5 1693.5,-120.5 1693.5,-126.5 1687.5,-132.5 1681.5,-132.5\"/>\n",
       "<text text-anchor=\"middle\" x=\"1590\" y=\"-117.3\" font-family=\"Helvetica,sans-Serif\" font-size=\"14.00\">gini = 0.111</text>\n",
       "<text text-anchor=\"middle\" x=\"1590\" y=\"-102.3\" font-family=\"Helvetica,sans-Serif\" font-size=\"14.00\">samples = 17</text>\n",
       "<text text-anchor=\"middle\" x=\"1590\" y=\"-87.3\" font-family=\"Helvetica,sans-Serif\" font-size=\"14.00\">value = [0, 0, 0, 0, 0, 1, 0, 16, 0]</text>\n",
       "</g>\n",
       "<!-- 3023&#45;&gt;3069 -->\n",
       "<g id=\"edge19\" class=\"edge\"><title>3023&#45;&gt;3069</title>\n",
       "<path fill=\"none\" stroke=\"black\" d=\"M1463.71,-175.884C1486.4,-163.511 1512.03,-149.53 1534.24,-137.413\"/>\n",
       "<polygon fill=\"black\" stroke=\"black\" points=\"1536.11,-140.381 1543.21,-132.52 1532.76,-134.236 1536.11,-140.381\"/>\n",
       "</g>\n",
       "<!-- 3025 -->\n",
       "<g id=\"node18\" class=\"node\"><title>3025</title>\n",
       "<path fill=\"#c0c0c0\" stroke=\"black\" d=\"M1329,-36C1329,-36 1299,-36 1299,-36 1293,-36 1287,-30 1287,-24 1287,-24 1287,-12 1287,-12 1287,-6 1293,-0 1299,-0 1299,-0 1329,-0 1329,-0 1335,-0 1341,-6 1341,-12 1341,-12 1341,-24 1341,-24 1341,-30 1335,-36 1329,-36\"/>\n",
       "<text text-anchor=\"middle\" x=\"1314\" y=\"-14.3\" font-family=\"Helvetica,sans-Serif\" font-size=\"14.00\">(...)</text>\n",
       "</g>\n",
       "<!-- 3024&#45;&gt;3025 -->\n",
       "<g id=\"edge17\" class=\"edge\"><title>3024&#45;&gt;3025</title>\n",
       "<path fill=\"none\" stroke=\"black\" d=\"M1336.18,-71.9961C1332.54,-63.2804 1328.64,-53.9846 1325.16,-45.6514\"/>\n",
       "<polygon fill=\"black\" stroke=\"black\" points=\"1328.38,-44.2763 1321.29,-36.4034 1321.92,-46.9793 1328.38,-44.2763\"/>\n",
       "</g>\n",
       "<!-- 3068 -->\n",
       "<g id=\"node19\" class=\"node\"><title>3068</title>\n",
       "<path fill=\"#c0c0c0\" stroke=\"black\" d=\"M1401,-36C1401,-36 1371,-36 1371,-36 1365,-36 1359,-30 1359,-24 1359,-24 1359,-12 1359,-12 1359,-6 1365,-0 1371,-0 1371,-0 1401,-0 1401,-0 1407,-0 1413,-6 1413,-12 1413,-12 1413,-24 1413,-24 1413,-30 1407,-36 1401,-36\"/>\n",
       "<text text-anchor=\"middle\" x=\"1386\" y=\"-14.3\" font-family=\"Helvetica,sans-Serif\" font-size=\"14.00\">(...)</text>\n",
       "</g>\n",
       "<!-- 3024&#45;&gt;3068 -->\n",
       "<g id=\"edge18\" class=\"edge\"><title>3024&#45;&gt;3068</title>\n",
       "<path fill=\"none\" stroke=\"black\" d=\"M1363.82,-71.9961C1367.46,-63.2804 1371.36,-53.9846 1374.84,-45.6514\"/>\n",
       "<polygon fill=\"black\" stroke=\"black\" points=\"1378.08,-46.9793 1378.71,-36.4034 1371.62,-44.2763 1378.08,-46.9793\"/>\n",
       "</g>\n",
       "<!-- 3071 -->\n",
       "<g id=\"node22\" class=\"node\"><title>3071</title>\n",
       "<path fill=\"#3964e5\" fill-opacity=\"0.109804\" stroke=\"black\" d=\"M1900,-132.5C1900,-132.5 1724,-132.5 1724,-132.5 1718,-132.5 1712,-126.5 1712,-120.5 1712,-120.5 1712,-91.5 1712,-91.5 1712,-85.5 1718,-79.5 1724,-79.5 1724,-79.5 1900,-79.5 1900,-79.5 1906,-79.5 1912,-85.5 1912,-91.5 1912,-91.5 1912,-120.5 1912,-120.5 1912,-126.5 1906,-132.5 1900,-132.5\"/>\n",
       "<text text-anchor=\"middle\" x=\"1812\" y=\"-117.3\" font-family=\"Helvetica,sans-Serif\" font-size=\"14.00\">gini = 0.663</text>\n",
       "<text text-anchor=\"middle\" x=\"1812\" y=\"-102.3\" font-family=\"Helvetica,sans-Serif\" font-size=\"14.00\">samples = 14</text>\n",
       "<text text-anchor=\"middle\" x=\"1812\" y=\"-87.3\" font-family=\"Helvetica,sans-Serif\" font-size=\"14.00\">value = [1, 0, 0, 0, 0, 6, 2, 5, 0]</text>\n",
       "</g>\n",
       "<!-- 3070&#45;&gt;3071 -->\n",
       "<g id=\"edge21\" class=\"edge\"><title>3070&#45;&gt;3071</title>\n",
       "<path fill=\"none\" stroke=\"black\" d=\"M1812,-175.884C1812,-165.326 1812,-153.597 1812,-142.854\"/>\n",
       "<polygon fill=\"black\" stroke=\"black\" points=\"1815.5,-142.52 1812,-132.52 1808.5,-142.52 1815.5,-142.52\"/>\n",
       "</g>\n",
       "<!-- 3072 -->\n",
       "<g id=\"node23\" class=\"node\"><title>3072</title>\n",
       "<path fill=\"#e539d7\" fill-opacity=\"0.960784\" stroke=\"black\" d=\"M2133.5,-140C2133.5,-140 1942.5,-140 1942.5,-140 1936.5,-140 1930.5,-134 1930.5,-128 1930.5,-128 1930.5,-84 1930.5,-84 1930.5,-78 1936.5,-72 1942.5,-72 1942.5,-72 2133.5,-72 2133.5,-72 2139.5,-72 2145.5,-78 2145.5,-84 2145.5,-84 2145.5,-128 2145.5,-128 2145.5,-134 2139.5,-140 2133.5,-140\"/>\n",
       "<text text-anchor=\"middle\" x=\"2038\" y=\"-124.8\" font-family=\"Helvetica,sans-Serif\" font-size=\"14.00\">X[67] &lt;= 2.0</text>\n",
       "<text text-anchor=\"middle\" x=\"2038\" y=\"-109.8\" font-family=\"Helvetica,sans-Serif\" font-size=\"14.00\">gini = 0.075</text>\n",
       "<text text-anchor=\"middle\" x=\"2038\" y=\"-94.8\" font-family=\"Helvetica,sans-Serif\" font-size=\"14.00\">samples = 130</text>\n",
       "<text text-anchor=\"middle\" x=\"2038\" y=\"-79.8\" font-family=\"Helvetica,sans-Serif\" font-size=\"14.00\">value = [2, 0, 0, 0, 0, 2, 1, 125, 0]</text>\n",
       "</g>\n",
       "<!-- 3070&#45;&gt;3072 -->\n",
       "<g id=\"edge22\" class=\"edge\"><title>3070&#45;&gt;3072</title>\n",
       "<path fill=\"none\" stroke=\"black\" d=\"M1885.38,-175.884C1907.69,-165.812 1932.37,-154.674 1955.26,-144.344\"/>\n",
       "<polygon fill=\"black\" stroke=\"black\" points=\"1956.93,-147.429 1964.61,-140.125 1954.05,-141.048 1956.93,-147.429\"/>\n",
       "</g>\n",
       "<!-- 3073 -->\n",
       "<g id=\"node24\" class=\"node\"><title>3073</title>\n",
       "<path fill=\"#c0c0c0\" stroke=\"black\" d=\"M2017,-36C2017,-36 1987,-36 1987,-36 1981,-36 1975,-30 1975,-24 1975,-24 1975,-12 1975,-12 1975,-6 1981,-0 1987,-0 1987,-0 2017,-0 2017,-0 2023,-0 2029,-6 2029,-12 2029,-12 2029,-24 2029,-24 2029,-30 2023,-36 2017,-36\"/>\n",
       "<text text-anchor=\"middle\" x=\"2002\" y=\"-14.3\" font-family=\"Helvetica,sans-Serif\" font-size=\"14.00\">(...)</text>\n",
       "</g>\n",
       "<!-- 3072&#45;&gt;3073 -->\n",
       "<g id=\"edge23\" class=\"edge\"><title>3072&#45;&gt;3073</title>\n",
       "<path fill=\"none\" stroke=\"black\" d=\"M2024.18,-71.9961C2020.54,-63.2804 2016.64,-53.9846 2013.16,-45.6514\"/>\n",
       "<polygon fill=\"black\" stroke=\"black\" points=\"2016.38,-44.2763 2009.29,-36.4034 2009.92,-46.9793 2016.38,-44.2763\"/>\n",
       "</g>\n",
       "<!-- 3080 -->\n",
       "<g id=\"node25\" class=\"node\"><title>3080</title>\n",
       "<path fill=\"#c0c0c0\" stroke=\"black\" d=\"M2089,-36C2089,-36 2059,-36 2059,-36 2053,-36 2047,-30 2047,-24 2047,-24 2047,-12 2047,-12 2047,-6 2053,-0 2059,-0 2059,-0 2089,-0 2089,-0 2095,-0 2101,-6 2101,-12 2101,-12 2101,-24 2101,-24 2101,-30 2095,-36 2089,-36\"/>\n",
       "<text text-anchor=\"middle\" x=\"2074\" y=\"-14.3\" font-family=\"Helvetica,sans-Serif\" font-size=\"14.00\">(...)</text>\n",
       "</g>\n",
       "<!-- 3072&#45;&gt;3080 -->\n",
       "<g id=\"edge24\" class=\"edge\"><title>3072&#45;&gt;3080</title>\n",
       "<path fill=\"none\" stroke=\"black\" d=\"M2051.82,-71.9961C2055.46,-63.2804 2059.36,-53.9846 2062.84,-45.6514\"/>\n",
       "<polygon fill=\"black\" stroke=\"black\" points=\"2066.08,-46.9793 2066.71,-36.4034 2059.62,-44.2763 2066.08,-46.9793\"/>\n",
       "</g>\n",
       "</g>\n",
       "</svg>\n"
      ],
      "text/plain": [
       "<graphviz.files.Source at 0x7fb85a048780>"
      ]
     },
     "execution_count": 18,
     "metadata": {},
     "output_type": "execute_result"
    }
   ],
   "source": [
    "# install python package and ubuntu package\n",
    "#sudo -H pip3 install  graphviz\n",
    "#apti graphviz\n",
    "import graphviz \n",
    "dot_data = tree.export_graphviz(clf, max_depth=3, out_file=None, filled=True, rounded=True) \n",
    "graph = graphviz.Source(dot_data) \n",
    "graph"
   ]
  },
  {
   "cell_type": "code",
   "execution_count": 21,
   "metadata": {},
   "outputs": [
    {
     "name": "stdout",
     "output_type": "stream",
     "text": [
      "train time 1.154313087463379, predict time 0.00397491455078125, predict proba time 0.003719806671142578\n",
      "0.711403485464\n",
      "[ 0.35278515  0.68127148  0.48336728  0.5012285   0.9584121   0.89299407\n",
      "  0.51361162  0.80335731  0.72376238]\n"
     ]
    }
   ],
   "source": [
    "clf = tree.DecisionTreeClassifier(min_samples_split=20, criterion = 'entropy')\n",
    "t0 = time()\n",
    "clf.fit(X,y)\n",
    "t1 = time()\n",
    "y_pred = clf.predict(X_test)\n",
    "t2 = time()\n",
    "y_pred_proba = clf.predict_proba(X_test)\n",
    "t3 = time()\n",
    "print(\"train time %s, predict time %s, predict proba time %s\" %(t1-t0, t2-t1, t3-t2))\n",
    "print(precision_score(y_test, y_pred, average='weighted'))\n",
    "print(precision_score(y_test, y_pred, average=None))"
   ]
  },
  {
   "cell_type": "code",
   "execution_count": 22,
   "metadata": {},
   "outputs": [
    {
     "name": "stdout",
     "output_type": "stream",
     "text": [
      "train time 1.070302963256836, predict time 0.0036058425903320312, predict proba time 0.0036122798919677734\n",
      "0.711437212951\n",
      "[ 0.41034483  0.67826802  0.50584795  0.51754386  0.93103448  0.89196676\n",
      "  0.49288256  0.79332553  0.7151277 ]\n"
     ]
    }
   ],
   "source": [
    "clf = tree.DecisionTreeClassifier(min_samples_split=50, criterion = 'entropy')\n",
    "t0 = time()\n",
    "clf.fit(X,y)\n",
    "t1 = time()\n",
    "y_pred = clf.predict(X_test)\n",
    "t2 = time()\n",
    "y_pred_proba = clf.predict_proba(X_test)\n",
    "t3 = time()\n",
    "print(\"train time %s, predict time %s, predict proba time %s\" %(t1-t0, t2-t1, t3-t2))\n",
    "print(precision_score(y_test, y_pred, average='weighted'))\n",
    "print(precision_score(y_test, y_pred, average=None))"
   ]
  },
  {
   "cell_type": "code",
   "execution_count": 23,
   "metadata": {},
   "outputs": [
    {
     "name": "stdout",
     "output_type": "stream",
     "text": [
      "train time 0.9972431659698486, predict time 0.0037200450897216797, predict proba time 0.003404855728149414\n",
      "0.701806509566\n",
      "[ 0.45535714  0.67530696  0.5095729   0.52614379  0.94795539  0.8895409\n",
      "  0.488       0.73205742  0.68222443]\n"
     ]
    }
   ],
   "source": [
    "clf = tree.DecisionTreeClassifier(min_samples_split=100, criterion = 'entropy')\n",
    "t0 = time()\n",
    "clf.fit(X,y)\n",
    "t1 = time()\n",
    "y_pred = clf.predict(X_test)\n",
    "t2 = time()\n",
    "y_pred_proba = clf.predict_proba(X_test)\n",
    "t3 = time()\n",
    "print(\"train time %s, predict time %s, predict proba time %s\" %(t1-t0, t2-t1, t3-t2))\n",
    "print(precision_score(y_test, y_pred, average='weighted'))\n",
    "print(precision_score(y_test, y_pred, average=None))"
   ]
  },
  {
   "cell_type": "code",
   "execution_count": 24,
   "metadata": {},
   "outputs": [
    {
     "name": "stdout",
     "output_type": "stream",
     "text": [
      "train time 1.2259674072265625, predict time 0.003951072692871094, predict proba time 0.0040149688720703125\n",
      "0.71164186683\n",
      "[ 0.32599119  0.69182578  0.48090615  0.42718447  0.94639556  0.89890421\n",
      "  0.48049645  0.81176471  0.74297607]\n"
     ]
    }
   ],
   "source": [
    "clf = tree.DecisionTreeClassifier(min_samples_split=5, criterion = 'entropy')\n",
    "t0 = time()\n",
    "clf.fit(X,y)\n",
    "t1 = time()\n",
    "y_pred = clf.predict(X_test)\n",
    "t2 = time()\n",
    "y_pred_proba = clf.predict_proba(X_test)\n",
    "t3 = time()\n",
    "print(\"train time %s, predict time %s, predict proba time %s\" %(t1-t0, t2-t1, t3-t2))\n",
    "print(precision_score(y_test, y_pred, average='weighted'))\n",
    "print(precision_score(y_test, y_pred, average=None))"
   ]
  },
  {
   "cell_type": "code",
   "execution_count": 25,
   "metadata": {},
   "outputs": [
    {
     "name": "stdout",
     "output_type": "stream",
     "text": [
      "train time 1.4221289157867432, predict time 0.004398822784423828, predict proba time 0.004254817962646484\n",
      "0.714155875181\n",
      "[ 0.37062937  0.69850015  0.45298095  0.43115942  0.9365942   0.89742686\n",
      "  0.49530957  0.833125    0.74157303]\n"
     ]
    }
   ],
   "source": [
    "clf = tree.DecisionTreeClassifier(min_samples_split=5, criterion = 'gini')\n",
    "t0 = time()\n",
    "clf.fit(X,y)\n",
    "t1 = time()\n",
    "y_pred = clf.predict(X_test)\n",
    "t2 = time()\n",
    "y_pred_proba = clf.predict_proba(X_test)\n",
    "t3 = time()\n",
    "print(\"train time %s, predict time %s, predict proba time %s\" %(t1-t0, t2-t1, t3-t2))\n",
    "print(precision_score(y_test, y_pred, average='weighted'))\n",
    "print(precision_score(y_test, y_pred, average=None))"
   ]
  },
  {
   "cell_type": "code",
   "execution_count": null,
   "metadata": {},
   "outputs": [],
   "source": []
  }
 ],
 "metadata": {
  "kernelspec": {
   "display_name": "Python 3",
   "language": "python",
   "name": "python3"
  },
  "language_info": {
   "codemirror_mode": {
    "name": "ipython",
    "version": 3
   },
   "file_extension": ".py",
   "mimetype": "text/x-python",
   "name": "python",
   "nbconvert_exporter": "python",
   "pygments_lexer": "ipython3",
   "version": "3.5.2"
  }
 },
 "nbformat": 4,
 "nbformat_minor": 2
}
