{
 "cells": [
  {
   "cell_type": "markdown",
   "metadata": {},
   "source": [
    "Summary:\n",
    "* kNN is more accurate when dataset is bigger.\n",
    "* kNN is slow on large dataset."
   ]
  },
  {
   "cell_type": "code",
   "execution_count": null,
   "metadata": {},
   "outputs": [],
   "source": [
    "from sklearn.model_selection import train_test_split\n",
    "from sklearn.metrics import log_loss\n",
    "from sklearn import preprocessing\n",
    "\n",
    "import numpy as np\n",
    "import pandas as pd"
   ]
  },
  {
   "cell_type": "code",
   "execution_count": 10,
   "metadata": {},
   "outputs": [],
   "source": [
    "train = pd.read_csv('train.csv')\n",
    "labels = train.target.values\n",
    "le = preprocessing.LabelEncoder()\n",
    "labels = le.fit_transform(labels)\n",
    "train = train.drop('id', axis=1)\n",
    "train = train.drop('target', axis=1)\n",
    "\n",
    "# split 80%\n",
    "X, X_test, y, y_test = train_test_split(\n",
    "    train.values, labels.astype('int32'), test_size=0.20, random_state=1234)"
   ]
  },
  {
   "cell_type": "code",
   "execution_count": 15,
   "metadata": {},
   "outputs": [
    {
     "name": "stdout",
     "output_type": "stream",
     "text": [
      "train time 2.6832759380340576, predict time 93.1043176651001, predict probality time 93.31927824020386\n"
     ]
    }
   ],
   "source": [
    "from time import time\n",
    "from sklearn.neighbors import KNeighborsClassifier\n",
    "\n",
    "\n",
    "neigh = KNeighborsClassifier(n_neighbors=3)\n",
    "t_before_fit = time()\n",
    "neigh.fit(X, y) # doctest: +ELLIPSIS\n",
    "t_after_fit = time()\n",
    "y_pred = neigh.predict(X_test)\n",
    "t_after_pred = time()\n",
    "Y_proba = neigh.predict_proba(X_test)\n",
    "t_after_pred_proba = time()\n",
    "print(\"train time %s, predict time %s, predict probality time %s\" %(\n",
    "    t_after_fit - t_before_fit,\n",
    "    t_after_pred - t_after_fit,\n",
    "    t_after_pred_proba - t_after_pred\n",
    "))"
   ]
  },
  {
   "cell_type": "code",
   "execution_count": 16,
   "metadata": {},
   "outputs": [
    {
     "data": {
      "text/plain": [
       "0.77829641505454594"
      ]
     },
     "execution_count": 16,
     "metadata": {},
     "output_type": "execute_result"
    }
   ],
   "source": [
    "from sklearn.metrics import precision_score\n",
    "precision_score(y_test, y_pred, average='weighted')"
   ]
  },
  {
   "cell_type": "code",
   "execution_count": 13,
   "metadata": {},
   "outputs": [
    {
     "data": {
      "text/plain": [
       "array([ 0.5194508 ,  0.70176406,  0.49967511,  0.61129568,  0.95143885,\n",
       "        0.94111425,  0.76355748,  0.92121588,  0.85387674])"
      ]
     },
     "execution_count": 13,
     "metadata": {},
     "output_type": "execute_result"
    }
   ],
   "source": [
    "precision_score(y_test, y_pred, average=None) "
   ]
  },
  {
   "cell_type": "code",
   "execution_count": null,
   "metadata": {},
   "outputs": [],
   "source": []
  }
 ],
 "metadata": {
  "kernelspec": {
   "display_name": "Python 3",
   "language": "python",
   "name": "python3"
  },
  "language_info": {
   "codemirror_mode": {
    "name": "ipython",
    "version": 3
   },
   "file_extension": ".py",
   "mimetype": "text/x-python",
   "name": "python",
   "nbconvert_exporter": "python",
   "pygments_lexer": "ipython3",
   "version": "3.5.2"
  }
 },
 "nbformat": 4,
 "nbformat_minor": 2
}
